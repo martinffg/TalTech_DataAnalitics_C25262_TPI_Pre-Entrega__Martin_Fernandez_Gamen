{
  "cells": [
    {
      "cell_type": "markdown",
      "id": "a48ba216",
      "metadata": {
        "id": "a48ba216"
      },
      "source": [
        "# 📘 Pre-entrega\n",
        "\n",
        "**Nombre del alumno:** **Martín Federico Fernández Gamen**"
      ]
    },
    {
      "cell_type": "markdown",
      "id": "1a9db0f6",
      "metadata": {
        "id": "1a9db0f6"
      },
      "source": [
        "## 🧩 Etapa 1: Recopilación y Preparación de Datos\n",
        "**Objetivo:** Demostrar habilidades en Python, familiaridad con el entorno de trabajo y conocimientos básicos sobre manipulación de datos."
      ]
    },
    {
      "cell_type": "markdown",
      "id": "9685f3f6",
      "metadata": {
        "id": "9685f3f6"
      },
      "source": [
        "### 1️⃣ Carga de datos"
      ]
    },
    {
      "cell_type": "code",
      "execution_count": null,
      "id": "b4477837",
      "metadata": {
        "id": "b4477837"
      },
      "outputs": [],
      "source": [
        "# TODO: Cargar los datasets como DataFrames usando pandas.\n",
        "# Sugerencia: utilizar pd.read_csv() para cargar los archivos CSV.\n",
        "# Recordá verificar la ruta correcta y revisar las primeras filas con .head()."
      ]
    },
    {
      "cell_type": "markdown",
      "id": "0ce86d9f",
      "metadata": {
        "id": "0ce86d9f"
      },
      "source": [
        "### 2️⃣ Análisis exploratorio inicial"
      ]
    },
    {
      "cell_type": "code",
      "execution_count": null,
      "id": "8721fd18",
      "metadata": {
        "id": "8721fd18"
      },
      "outputs": [],
      "source": [
        "# TODO: Realizar un análisis exploratorio inicial de los DataFrames.\n",
        "# Sugerencia: usar métodos como .info(), .describe(), .shape y .columns. dtypes.\n",
        "# Esto te ayudará a entender la estructura y el contenido de los datos.\n",
        "# Podés incluir comentarios sobre observaciones iniciales."
      ]
    },
    {
      "cell_type": "markdown",
      "id": "3dfc633c",
      "metadata": {
        "id": "3dfc633c"
      },
      "source": [
        "### 3️⃣ Calidad de los datos"
      ]
    },
    {
      "cell_type": "code",
      "execution_count": null,
      "id": "c10b4a88",
      "metadata": {
        "id": "c10b4a88"
      },
      "outputs": [],
      "source": [
        "# TODO: Identificar valores nulos y duplicados en los conjuntos de datos.\n",
        "# Sugerencia: usar .isna().sum() y .duplicated().sum().\n",
        "# Documentar las observaciones con print() o comentarios."
      ]
    },
    {
      "cell_type": "markdown",
      "id": "6df40e84",
      "metadata": {
        "id": "6df40e84"
      },
      "source": [
        "## 🧹 Etapa 2: Preprocesamiento y Limpieza de Datos\n",
        "**Objetivo:** Demostrar conocimiento de las técnicas de limpieza y transformación de datos."
      ]
    },
    {
      "cell_type": "markdown",
      "id": "d824f905",
      "metadata": {
        "id": "d824f905"
      },
      "source": [
        "### 4️⃣ Limpieza de datos"
      ]
    },
    {
      "cell_type": "code",
      "execution_count": null,
      "id": "31a4417f",
      "metadata": {
        "id": "31a4417f"
      },
      "outputs": [],
      "source": [
        "# TODO: Limpiar el conjunto de datos eliminando duplicados y caracteres no deseados.\n",
        "# Sugerencia: aplicar .drop_duplicates(), .str.strip(), .str.replace() según el caso.\n",
        "# Documentar el proceso y los resultados."
      ]
    },
    {
      "cell_type": "markdown",
      "id": "8922107d",
      "metadata": {
        "id": "8922107d"
      },
      "source": [
        "### 5️⃣ Transformación de datos"
      ]
    },
    {
      "cell_type": "code",
      "execution_count": null,
      "id": "422b99c6",
      "metadata": {
        "id": "422b99c6"
      },
      "outputs": [],
      "source": [
        "# TODO: Aplicar filtros y transformaciones para crear una tabla de ventas\n",
        "# que muestre solo los productos con alto rendimiento. calcular el percentil 80\n",
        "# y filtrar los productos que superen ese umbral en ventas.\n",
        "#quantile(0.8)\n",
        "# Sugerencia: usar .query() o condiciones con operadores lógicos."
      ]
    },
    {
      "cell_type": "markdown",
      "id": "6fcd4941",
      "metadata": {
        "id": "6fcd4941"
      },
      "source": [
        "### 6️⃣ Agregación"
      ]
    },
    {
      "cell_type": "code",
      "execution_count": null,
      "id": "c9e9ff6c",
      "metadata": {
        "id": "c9e9ff6c"
      },
      "outputs": [],
      "source": [
        "# TODO: Resumir las ventas por categoría de producto y analizar los ingresos generados.\n",
        "# Sugerencia: usar .groupby() y .agg() para generar métricas como suma y promedio."
      ]
    },
    {
      "cell_type": "markdown",
      "id": "ae31e603",
      "metadata": {
        "id": "ae31e603"
      },
      "source": [
        "### 7️⃣ Integración de datos, opcional, NO OBLIGATORIO"
      ]
    },
    {
      "cell_type": "code",
      "execution_count": null,
      "id": "767d85a7",
      "metadata": {
        "id": "767d85a7"
      },
      "outputs": [],
      "source": [
        "# TODO: Combinar los sets de datos de ventas y marketing para obtener una visión más amplia de las tendencias.\n",
        "# Sugerencia: usar pd.merge() especificando la clave común entre ambos DataFrames.\n",
        "# Documentar cualquier observación relevante sobre la combinación de datos.\n"
      ]
    }
  ],
  "metadata": {
    "language_info": {
      "name": "python"
    },
    "colab": {
      "provenance": []
    }
  },
  "nbformat": 4,
  "nbformat_minor": 5
}